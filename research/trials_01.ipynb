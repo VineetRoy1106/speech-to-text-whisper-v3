{
 "cells": [
  {
   "cell_type": "code",
   "execution_count": 1,
   "metadata": {},
   "outputs": [],
   "source": [
    "import os; os.chdir(\"..\")"
   ]
  },
  {
   "cell_type": "code",
   "execution_count": 2,
   "metadata": {},
   "outputs": [
    {
     "name": "stdout",
     "output_type": "stream",
     "text": [
      "KALAASTAR_-_Full_Video___Honey_3.0___Yo_Yo_Honey_Singh__Sonakshi_Sinha___Zee_Music_Origi_7xnMEyl.mp3\n",
      "KALAASTAR_-_Full_Video___Honey_3.0___Yo_Yo_Honey_Singh__Sonakshi_Sinha___Zee_Music_Originals.mp3\n",
      "db.sqlite3\n",
      "\u001b[0m\u001b[01;32mmanage.py\u001b[0m*\n",
      "music.mp3\n",
      "\u001b[01;34mresearch\u001b[0m/\n",
      "\u001b[01;34mtemplates\u001b[0m/\n",
      "\u001b[01;34mtranscribe\u001b[0m/\n",
      "\u001b[01;34myourproject\u001b[0m/\n"
     ]
    }
   ],
   "source": [
    "%ls"
   ]
  },
  {
   "cell_type": "code",
   "execution_count": 3,
   "metadata": {},
   "outputs": [],
   "source": [
    "file= \"music.mp3\""
   ]
  },
  {
   "cell_type": "code",
   "execution_count": 4,
   "metadata": {},
   "outputs": [
    {
     "name": "stderr",
     "output_type": "stream",
     "text": [
      "/home/ubuntu/vineet/django-app/venv/lib/python3.10/site-packages/tqdm/auto.py:21: TqdmWarning: IProgress not found. Please update jupyter and ipywidgets. See https://ipywidgets.readthedocs.io/en/stable/user_install.html\n",
      "  from .autonotebook import tqdm as notebook_tqdm\n",
      "Special tokens have been added in the vocabulary, make sure the associated word embeddings are fine-tuned or trained.\n"
     ]
    }
   ],
   "source": [
    "# import gradio as gr\n",
    "from transformers import pipeline\n",
    "import numpy as np\n",
    "\n",
    "# transcriber = pipeline(\"automatic-speech-recognition\", model=\"openai/whisper-base.en\")\n",
    "transcriber = pipeline(\"automatic-speech-recognition\", model=\"openai/whisper-large-v3\", device=\"cuda\")"
   ]
  },
  {
   "cell_type": "code",
   "execution_count": 5,
   "metadata": {},
   "outputs": [
    {
     "data": {
      "text/plain": [
       "{'text': \" अगर आपको एक बार बात नहीं होगा, तो आपको एक बात नहीं होगा. ਲੈਜਾ ਲੈਜਾ ਤੇਨੁ ਸਤ ਸਮਦਰ ਓ ਪਾਰ ਤੋਫੇ ਵੀਚ ਦੇ ਕੇ ਹਾਰ ਤੇਨੁ ਖੂਬ ਕਰਾ ਮੇ ਤੇਆਰ ਬੀਲੋ ਬਤੀਆਂ ਬੁਝਾਕੇ ਆਯਾ ਮੁਡ ਤੇਰਾ ਦੇ ਸੀ ਕਲਾਕਾਰ ਤੇਨੁ ਡੀਕੇ ਮੇਰੀ ਕਾਰ ਤੁ ਨਸਰ ਮੇਰੇ ਤੇ ਮਾਰ ਬੀਲੋ ਅਖੀਆਂ ਮੇ ਲਾਕੇ ਬੀਗਡੇ ਆ ਚਟ ਫੇਰ ਅਡੀ ਹੁਤੇ ਆਯਾ ਕੁਡੇ ਜੇਲ ਵੀਚ ਉਸਦਾ ਤੇਰੇ ਕਾਰ ਵਾਲ ਆਯਾ ਤੁਰਨ ਲਗੇ ਮੈ ਤੇਨੂ ਕੋਲ ਕਾਲ ਕਰਤੀ ਤੁਮੇਨੂ ਭੇਰ ਨਾ ਕਹੀ ਮੈ ਤੇਨੂ ਦੈ ਸਕੇ ਨੀ ਆਯਾ ਤਾਰੇ ਤੋਡੂ ਜੁਗਨੂ ਫਡਜੂ ਦੀਲ ਤੇਰੇ ਵੀਚ ਆਯਦਾ ਵਡਜੂ ਨਾਲ ਮੈ ਖਡਜੂ ਬਣਕੇ ਤੇਰਾ ਯਾਰ ਲੈਜਾ ਲੈਜਾ ਤੇਨੁ ਸਤ ਸਮੁਦਰ ਓ ਪਾਰ ਤੋਫੇ ਵੇਚ ਦੇਕੇ ਹਾਰ ਤੇਨੁ ਖੂਬ ਕਰਾ ਮੇ ਤੇਆਰ ਬੀਲੋ ਬਟੀਆਂ ਬੁਝਾਕੇ ਆਯਾ ਮੁਡ ਤੇਰਾ ਦੇਸੀ ਕਲਾਕਾਰ ਤੇਨੁ ਡੀਕੇ ਮੇਰੀ ਕਾਰ ਤੁ ਨਜਰ ਮੇਰੇ ਤੇ ਮਾਰ ਬੀਲੋ ਅਖਿਆਂ ਮੀਲਾਕੇ ਜੋਤ ਬੋਲਕੇ ਆਜਾ ਤੂ ਹਾਬੀ ਨੂ ਮੇਰੇ ਲੈ ਬਡੇ ਦੀਨਾ ਤੋ ਸਾਮ ਰਖੀ ਮੈ ਸ਼ਾਂ ਜਰ ਛੇਰੇ ਲੈ ਤਬ ਲੂਕਾ ਕੀਤੇ ਮੈਨੂ ਕੀਸੇ ਦਾਪੇਓ ਜਾਟ ਕਂਗਡ ਨੀ ਦੀਨਦਾ ਪੈਗ ਮਾਰਕੇ ਦੋ ਏਨੇ ਚਾਕ ਕੇ ਫਰਾਰ ਮੈ ਹੋਜੂ ਆੋ ਜੇ ਨੇ ਚਾਕ ਕੇ ਫ਼ਰਾਰ ਮੈ ਹੋਜੂ ਲੈਜਾ ਲੈਜਾ ਤੇਨੁ ਸਤ ਸਮਦਰ ਓ ਪਾਰ ਤੋਫੇ ਵੀਚ ਦੇਕੇ ਹਾਰ ਤੇਨੁ ਖੂਬ ਕਾਰਾ ਮੇ ਤੇਆਰ ਬੀਲੋ ਬਤੀਆਂ ਬੁਝਾਕੇ ਆਯਾ ਮੁਡ ਤੇਰਾ ਦੇਸੀ ਕਲਾਕਾਰ ਤੇਨੁ ਡੀਕੇ ਮੇਰੀ ਕਾਰ ਤੁਨ ਨਜਰ ਮੇਰੇ ਤੇਮਾਰ ਬੀਲੋ ਖੀਆ ਮੀਲਾਕੇ ਮੇਤੋ ਪੇਲਾ ਜਗਤੇ ਆਸ਼ਿਕ ਹੋਏ ਹੋਡੇ ਨੇ ਪਰ ਮੇਰੇ ਜੀਨੇ ਪਾਗਲ ਕੀਤੇ ਹੋਏ ਹੋਡੇ ਨੇ ਮੈਸਾ ਦੇਕੇ ਤੇਰਾ ਨੀ ਮੈ ਖੇਲਾ ਛੁਡ਼ਵਾਦੂ ਸ਼ੇਖਾ ਤੋ ਵੀਵਦ ਤੇਨੁ ਆਸ਼ਿਕ ਕਰਾਦੂ ਬੋਲ ਕੇ ਤੁ ਬਾਰੀ ਖਬੀ ਸੀਟ ਯੂਤੇ ਬੈਜਾ ਰਾਤੋ ਰਾਤ ਤੇਰਾ ਨੀ ਮੈ ਮੁਲਕ ਸ਼ਾਡਾ ਦੂ ਇਨਡੋ ਬਡਾ ਕਮਾਲ ਬਲੀਏ ਗੀਲ ਰੋਮੀ ਵੀ ਨਾਲ ਨੇ ਬਲੀਏ ਡਾਲ ਨੇ ਬਲੀਏ ਯੋ ਯੋ ਦੇ ਨੇ ਆਰ ਲੈਜਾ ਲੈਜਾ ਤੇਨੁ ਸਤ ਸਮਦਰ ਓ ਪਾਰ ਤੋਫੇ ਵੈਚ ਦੇ ਕੇ ਹਾਰ ਤੇਨੁ ਖੂਬ ਕਰਾ ਮੇ ਤੇਆਰ ਬੀਲੋ ਬਤੀਆਂ ਬੁਝਾਕੇ ਆਯਾ ਮੁਡ ਤੇਰਾ ਦੇ ਸੀ ਕਲਾਕਾਰ ਤੇਨੁ ਡੀਕੇ ਮੇਰੀ ਕਾਰ ਤੁ ਨਜਰ ਮੇਰੇ ਤੇਮਾਰ ਬੀਲੋ ਅਖੀਆ ਮੇਲਾਕੇ ਜੀਰ ਆਮ ਬਾਗ ਬੇਬੀ ਆਫ਼ਤੇ ਨਾਈਨ ਇਰਸ ਕੈਂਦੀ ਯੋ ਯੋ ਹਾਣੀ ਸੀਂਗਾ ਯੋ ਮਾਈਨ ਇਮੇਂਬਰ ਦੇਸ I got something for you. Do you remember this? No way. So, where do you want to go? Let's go! Satisamandar par! Puerto Rico! Let's go! We're going Puerto Rico! तो रहे करेगा\"}"
      ]
     },
     "execution_count": 5,
     "metadata": {},
     "output_type": "execute_result"
    }
   ],
   "source": [
    "result= transcriber(file)\n",
    "result"
   ]
  },
  {
   "cell_type": "code",
   "execution_count": null,
   "metadata": {},
   "outputs": [],
   "source": []
  }
 ],
 "metadata": {
  "kernelspec": {
   "display_name": "venv",
   "language": "python",
   "name": "python3"
  },
  "language_info": {
   "codemirror_mode": {
    "name": "ipython",
    "version": 3
   },
   "file_extension": ".py",
   "mimetype": "text/x-python",
   "name": "python",
   "nbconvert_exporter": "python",
   "pygments_lexer": "ipython3",
   "version": "3.10.12"
  }
 },
 "nbformat": 4,
 "nbformat_minor": 2
}
