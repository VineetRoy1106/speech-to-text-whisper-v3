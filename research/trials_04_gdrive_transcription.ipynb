{
 "cells": [
  {
   "cell_type": "code",
   "execution_count": 1,
   "metadata": {},
   "outputs": [
    {
     "name": "stdout",
     "output_type": "stream",
     "text": [
      "Collecting gdown\n",
      "  Downloading gdown-5.0.0-py3-none-any.whl (16 kB)\n",
      "Requirement already satisfied: requests[socks] in /home/ubuntu/speech-to-text-whisper-v3/venv/lib/python3.10/site-packages (from gdown) (2.31.0)\n",
      "Requirement already satisfied: filelock in /home/ubuntu/speech-to-text-whisper-v3/venv/lib/python3.10/site-packages (from gdown) (3.13.1)\n",
      "Requirement already satisfied: beautifulsoup4 in /home/ubuntu/speech-to-text-whisper-v3/venv/lib/python3.10/site-packages (from gdown) (4.12.3)\n",
      "Requirement already satisfied: tqdm in /home/ubuntu/speech-to-text-whisper-v3/venv/lib/python3.10/site-packages (from gdown) (4.66.1)\n",
      "Requirement already satisfied: soupsieve>1.2 in /home/ubuntu/speech-to-text-whisper-v3/venv/lib/python3.10/site-packages (from beautifulsoup4->gdown) (2.5)\n",
      "Requirement already satisfied: urllib3<3,>=1.21.1 in /home/ubuntu/speech-to-text-whisper-v3/venv/lib/python3.10/site-packages (from requests[socks]->gdown) (2.1.0)\n",
      "Requirement already satisfied: charset-normalizer<4,>=2 in /home/ubuntu/speech-to-text-whisper-v3/venv/lib/python3.10/site-packages (from requests[socks]->gdown) (3.3.2)\n",
      "Requirement already satisfied: idna<4,>=2.5 in /home/ubuntu/speech-to-text-whisper-v3/venv/lib/python3.10/site-packages (from requests[socks]->gdown) (3.6)\n",
      "Requirement already satisfied: certifi>=2017.4.17 in /home/ubuntu/speech-to-text-whisper-v3/venv/lib/python3.10/site-packages (from requests[socks]->gdown) (2023.11.17)\n",
      "Requirement already satisfied: PySocks!=1.5.7,>=1.5.6 in /home/ubuntu/speech-to-text-whisper-v3/venv/lib/python3.10/site-packages (from requests[socks]->gdown) (1.7.1)\n",
      "Installing collected packages: gdown\n",
      "Successfully installed gdown-5.0.0\n"
     ]
    }
   ],
   "source": [
    "!pip install gdown"
   ]
  },
  {
   "cell_type": "code",
   "execution_count": 8,
   "metadata": {},
   "outputs": [],
   "source": [
    "url= \"https://drive.google.com/file/d/1gJf999pZ9GjZ_4u_nOKHaF4D4bG-r-0N\""
   ]
  },
  {
   "cell_type": "code",
   "execution_count": 9,
   "metadata": {},
   "outputs": [],
   "source": [
    "import gdown"
   ]
  },
  {
   "cell_type": "code",
   "execution_count": 14,
   "metadata": {},
   "outputs": [
    {
     "name": "stderr",
     "output_type": "stream",
     "text": [
      "Downloading...\n",
      "From: https://drive.google.com/file/d/1gJf999pZ9GjZ_4u_nOKHaF4D4bG-r-0N\n",
      "To: /home/ubuntu/speech-to-text-whisper-v3/research/1gJf999pZ9GjZ_4u_nOKHaF4D4bG-r-0N\n",
      "81.5kB [00:00, 301MB/s]\n"
     ]
    },
    {
     "data": {
      "text/plain": [
       "'1gJf999pZ9GjZ_4u_nOKHaF4D4bG-r-0N'"
      ]
     },
     "execution_count": 14,
     "metadata": {},
     "output_type": "execute_result"
    }
   ],
   "source": [
    "gdown.download(url=\"https://drive.google.com/file/d/1gJf999pZ9GjZ_4u_nOKHaF4D4bG-r-0N\")"
   ]
  },
  {
   "cell_type": "code",
   "execution_count": 5,
   "metadata": {},
   "outputs": [
    {
     "name": "stdout",
     "output_type": "stream",
     "text": [
      "--2024-01-23 06:47:40--  https://drive.usercontent.google.com/download?id=1gJf999pZ9GjZ_4u_nOKHaF4D4bG-r-0N&export=download&authuser=0&confirm=t&uuid=5688f457-4e1c-457c-a5ec-a8598b0dd964&at=APZUnTUpHNyQlpOtI3PgavZ03gca:1705992441375\n",
      "Resolving drive.usercontent.google.com (drive.usercontent.google.com)... 172.253.122.132, 2607:f8b0:4004:c1b::84\n",
      "Connecting to drive.usercontent.google.com (drive.usercontent.google.com)|172.253.122.132|:443... connected.\n",
      "HTTP request sent, awaiting response... 200 OK\n",
      "Length: 532039307 (507M) [video/mp4]\n",
      "Saving to: ‘download?id=1gJf999pZ9GjZ_4u_nOKHaF4D4bG-r-0N&export=download&authuser=0&confirm=t&uuid=5688f457-4e1c-457c-a5ec-a8598b0dd964&at=APZUnTUpHNyQlpOtI3PgavZ03gca:1705992441375’\n",
      "\n",
      "download?id=1gJf999 100%[===================>] 507.39M  99.4MB/s    in 7.6s    \n",
      "\n",
      "2024-01-23 06:47:48 (66.4 MB/s) - ‘download?id=1gJf999pZ9GjZ_4u_nOKHaF4D4bG-r-0N&export=download&authuser=0&confirm=t&uuid=5688f457-4e1c-457c-a5ec-a8598b0dd964&at=APZUnTUpHNyQlpOtI3PgavZ03gca:1705992441375’ saved [532039307/532039307]\n",
      "\n"
     ]
    }
   ],
   "source": [
    "!wget \"https://drive.usercontent.google.com/download?id=1gJf999pZ9GjZ_4u_nOKHaF4D4bG-r-0N&export=download&authuser=0&confirm=t&uuid=5688f457-4e1c-457c-a5ec-a8598b0dd964&at=APZUnTUpHNyQlpOtI3PgavZ03gca:1705992441375\""
   ]
  },
  {
   "cell_type": "code",
   "execution_count": 2,
   "metadata": {},
   "outputs": [
    {
     "data": {
      "text/plain": [
       "'1gJf999pZ9GjZ_4u_nOKHaF4D4bG-r-0N'"
      ]
     },
     "execution_count": 2,
     "metadata": {},
     "output_type": "execute_result"
    }
   ],
   "source": [
    "file_id=\"https://drive.google.com/file/d/1gJf999pZ9GjZ_4u_nOKHaF4D4bG-r-0N/view?usp=sharing\"\n",
    "file_id= file_id.replace('https://drive.google.com/file/d/', '')\n",
    "file_id= file_id[: file_id.index('/')]\n",
    "file_id"
   ]
  },
  {
   "cell_type": "code",
   "execution_count": 1,
   "metadata": {},
   "outputs": [
    {
     "name": "stderr",
     "output_type": "stream",
     "text": [
      "Downloading...\n",
      "From (original): https://drive.google.com/uc?id=1gJf999pZ9GjZ_4u_nOKHaF4D4bG-r-0N\n",
      "From (redirected): https://drive.google.com/uc?id=1gJf999pZ9GjZ_4u_nOKHaF4D4bG-r-0N&confirm=t&uuid=054903e2-d10e-4c52-8483-ce6f133293b3\n",
      "To: /home/ubuntu/speech-to-text-whisper-v3/research/video.mp4\n",
      "100%|██████████| 532M/532M [00:02<00:00, 194MB/s]  \n"
     ]
    },
    {
     "data": {
      "text/plain": [
       "'video.mp4'"
      ]
     },
     "execution_count": 1,
     "metadata": {},
     "output_type": "execute_result"
    }
   ],
   "source": [
    "import gdown\n",
    "\n",
    "url = 'https://drive.google.com/uc?id=1gJf999pZ9GjZ_4u_nOKHaF4D4bG-r-0N'\n",
    "output = 'video.mp4'\n",
    "gdown.download(url, output, quiet=False)"
   ]
  },
  {
   "cell_type": "code",
   "execution_count": null,
   "metadata": {},
   "outputs": [],
   "source": []
  }
 ],
 "metadata": {
  "kernelspec": {
   "display_name": "venv",
   "language": "python",
   "name": "python3"
  },
  "language_info": {
   "codemirror_mode": {
    "name": "ipython",
    "version": 3
   },
   "file_extension": ".py",
   "mimetype": "text/x-python",
   "name": "python",
   "nbconvert_exporter": "python",
   "pygments_lexer": "ipython3",
   "version": "3.10.12"
  }
 },
 "nbformat": 4,
 "nbformat_minor": 2
}
