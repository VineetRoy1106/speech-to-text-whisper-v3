{
 "cells": [
  {
   "cell_type": "code",
   "execution_count": null,
   "metadata": {},
   "outputs": [],
   "source": [
    "! pip install pytest-playwright"
   ]
  },
  {
   "cell_type": "code",
   "execution_count": null,
   "metadata": {},
   "outputs": [],
   "source": [
    "!playwright install"
   ]
  },
  {
   "cell_type": "code",
   "execution_count": null,
   "metadata": {},
   "outputs": [],
   "source": [
    "from playwright.sync_api import Page, expect"
   ]
  },
  {
   "cell_type": "code",
   "execution_count": null,
   "metadata": {},
   "outputs": [],
   "source": [
    "import pytest\n",
    "def test_get_page_source(page: Page):\n",
    "    # Go to the page\n",
    "    page.goto(\"https://fb.watch/pFZdghKC4o/\")\n",
    "    \n",
    "    # Get the page source\n",
    "    page_source = page.content()\n",
    "    with open(\"dummy.html\", \"wb\") as f:\n",
    "        f.write(page_source)\n",
    "        \n",
    "        \n",
    "test_get_page_source()\n",
    "    "
   ]
  },
  {
   "cell_type": "code",
   "execution_count": null,
   "metadata": {},
   "outputs": [],
   "source": [
    "from playwright.sync_api import sync_playwright\n",
    "\n",
    "def run(playwright):\n",
    "    browser = playwright.chromium.launch()\n",
    "    context = browser.new_context()\n",
    "    page = context.new_page()\n",
    "    page.goto(\"https://fb.watch/pFZdghKC4o/\")\n",
    "    content = page.content()\n",
    "    print(content)\n",
    "    browser.close()\n",
    "\n",
    "\n",
    "run(sync_playwright())\n"
   ]
  },
  {
   "cell_type": "code",
   "execution_count": null,
   "metadata": {},
   "outputs": [],
   "source": [
    "from playwright.sync_api import sync_playwright\n",
    "from playwright.async_api import async_playwright\n",
    "\n",
    " \n",
    "# def main():\n",
    "#     pass\n",
    " \n",
    "# if __name__ == '__main__':\n",
    "#     main()"
   ]
  },
  {
   "cell_type": "code",
   "execution_count": null,
   "metadata": {},
   "outputs": [],
   "source": [
    "# browser= sync_playwright().start().chromium.launch(headless=True)\n"
   ]
  },
  {
   "cell_type": "code",
   "execution_count": null,
   "metadata": {},
   "outputs": [],
   "source": [
    "from playwright.async_api import async_playwright\n",
    "\n",
    "playwright = await async_playwright().start()\n",
    "\n",
    "browser = await playwright.chromium.launch(headless = True, channel=\"msedge\")\n",
    "page = await browser.new_page()\n",
    "\n",
    "await page.goto(\"https://www.facebook.com/100083575600760/videos/333425262607475/\")"
   ]
  },
  {
   "cell_type": "code",
   "execution_count": null,
   "metadata": {},
   "outputs": [],
   "source": [
    "import requests\n",
    "requests.get(\"https://fb.watch/pFZdghKC4o/\", headers= {\n",
    "    \"User-Agent\": \"Mozilla/5.0 (Windows NT 10.0; Win64; x64)\\\n",
    "    AppleWebKit/537.36 (KHTML, like Gecko) Chrome/79.0.3945.74 \\\n",
    "    Safari/537.36 Edg/79.0.309.43\",\n",
    "    # \"cookie\": f'sessionid={SESSIONID};'\n",
    "}   ).content"
   ]
  },
  {
   "cell_type": "code",
   "execution_count": null,
   "metadata": {},
   "outputs": [],
   "source": [
    "await page.request.get(\"https://fb.watch/pFZdghKC4o/\", max_redirects=1000)"
   ]
  },
  {
   "cell_type": "code",
   "execution_count": null,
   "metadata": {},
   "outputs": [],
   "source": [
    "content= await page.content()\n",
    "content"
   ]
  },
  {
   "cell_type": "code",
   "execution_count": 12,
   "metadata": {},
   "outputs": [
    {
     "name": "stdout",
     "output_type": "stream",
     "text": [
      "https:\\/\\/scontent.cdninstagram.com\\/v\\/t66.30100-16\\/322667032_1067501234451252_8158243962393018827_n.mp4?_nc_cat=1&amp;ccb=1-7&amp;_nc_sid=9a5d50&amp;efg=eyJ2ZW5jb2RlX3RhZyI6ImlnLXhwdmRzLmNsaXBzLmMyLUMzLmRhc2hfbG5fYXVkaW9fdjEifQ%3D%3D&amp;_nc_ohc=3eZyzqz3J_oAX_1YW2P&amp;_nc_ht=scontent.cdninstagram.com&amp;oh=00_AfDh8B3b29LLe-tW8k_Xr23Xp28VvAAnJ3Purg_EHaUpJA&amp;oe=65B344B5<\n",
      "https://scontent.cdninstagram.com/v/t66.30100-16/322667032_1067501234451252_8158243962393018827_n.mp4?_nc_cat=1&ccb=1-7&_nc_sid=9a5d50&efg=eyJ2ZW5jb2RlX3RhZyI6ImlnLXhwdmRzLmNsaXBzLmMyLUMzLmRhc2hfbG5fYXVkaW9fdjEifQ%3D%3D&_nc_ohc=3eZyzqz3J_oAX_1YW2P&_nc_ht=scontent.cdninstagram.com&oh=00_AfDh8B3b29LLe-tW8k_Xr23Xp28VvAAnJ3Purg_EHaUpJA&oe=65B344B5<\n"
     ]
    }
   ],
   "source": [
    "url= \"https:\\/\\/scontent.cdninstagram.com\\/v\\/t66.30100-16\\/322667032_1067501234451252_8158243962393018827_n.mp4?_nc_cat=1&amp;ccb=1-7&amp;_nc_sid=9a5d50&amp;efg=eyJ2ZW5jb2RlX3RhZyI6ImlnLXhwdmRzLmNsaXBzLmMyLUMzLmRhc2hfbG5fYXVkaW9fdjEifQ\\u00253D\\u00253D&amp;_nc_ohc=3eZyzqz3J_oAX_1YW2P&amp;_nc_ht=scontent.cdninstagram.com&amp;oh=00_AfDh8B3b29LLe-tW8k_Xr23Xp28VvAAnJ3Purg_EHaUpJA&amp;oe=65B344B5\\u003C\"\n",
    "url= url.encode(\"utf-8\").decode(\"utf-8\")\n",
    "print(url)\n",
    "url= (url.replace('\\\\',''))\n",
    "print(url.replace('&amp;', '&'))\n"
   ]
  },
  {
   "cell_type": "code",
   "execution_count": null,
   "metadata": {},
   "outputs": [],
   "source": [
    "!wget \"https://video-iad3-1.xx.fbcdn.net/v/t39.25447-2/400924423_238124375719885_595885740737611282_n.mp4?_nc_cat=110&ccb=1-7&_nc_sid=9a5d50&efg=eyJ2ZW5jb2RlX3RhZyI6ImRhc2hfYXVkaW9fYWFjcF82NF9mbm9ybTE0X2ZyYWdfMl9hdWRpbyJ9&_nc_ohc=z46US5gUbpIAX_qoKi0&_nc_ht=video-iad3-1.xx&oh=00_AfAvbZR4lbpEI5upUnbkfuNR9ya7nLMrpIk47sMuEIxhMQ&oe=65AFBE95u003C\""
   ]
  },
  {
   "cell_type": "code",
   "execution_count": 1,
   "metadata": {},
   "outputs": [],
   "source": [
    "import os; os.chdir('..')"
   ]
  },
  {
   "cell_type": "code",
   "execution_count": 2,
   "metadata": {},
   "outputs": [
    {
     "data": {
      "text/plain": [
       "'/home/ubuntu/speech-to-text-whisper-v3'"
      ]
     },
     "execution_count": 2,
     "metadata": {},
     "output_type": "execute_result"
    }
   ],
   "source": [
    "%pwd"
   ]
  },
  {
   "cell_type": "code",
   "execution_count": 3,
   "metadata": {},
   "outputs": [
    {
     "name": "stdout",
     "output_type": "stream",
     "text": [
      "True\n"
     ]
    }
   ],
   "source": [
    "from transcribe.fb_scrape import extract_video_from_url"
   ]
  },
  {
   "cell_type": "code",
   "execution_count": null,
   "metadata": {},
   "outputs": [],
   "source": [
    "s= extract_video_from_url(\"https://www.facebook.com/100083575600760/videos/333425262607475/\", \"h\")"
   ]
  },
  {
   "cell_type": "code",
   "execution_count": 5,
   "metadata": {},
   "outputs": [
    {
     "data": {
      "text/plain": [
       "<coroutine object extract_video_from_url at 0x7f1f93d9e730>"
      ]
     },
     "execution_count": 5,
     "metadata": {},
     "output_type": "execute_result"
    }
   ],
   "source": [
    "s"
   ]
  },
  {
   "cell_type": "code",
   "execution_count": null,
   "metadata": {},
   "outputs": [],
   "source": []
  }
 ],
 "metadata": {
  "kernelspec": {
   "display_name": "venv",
   "language": "python",
   "name": "python3"
  },
  "language_info": {
   "codemirror_mode": {
    "name": "ipython",
    "version": 3
   },
   "file_extension": ".py",
   "mimetype": "text/x-python",
   "name": "python",
   "nbconvert_exporter": "python",
   "pygments_lexer": "ipython3",
   "version": "3.10.12"
  }
 },
 "nbformat": 4,
 "nbformat_minor": 2
}
