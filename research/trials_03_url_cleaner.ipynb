{
 "cells": [
  {
   "cell_type": "code",
   "execution_count": 1,
   "metadata": {},
   "outputs": [
    {
     "name": "stdout",
     "output_type": "stream",
     "text": [
      "\"https://scontent-iad3-2.cdninstagram.com/v/t51.29350-15/403880010_1403943240466917_3067056941630138383_n.jpg?stp=c162.288.270.270a_dst-jpg_s640x640&_nc_cat=106&ccb=1-7&_nc_sid=384e48&_nc_ohc=R1WNddiOJnAAX8msRtL&_nc_ht=scontent-iad3-2.cdninstagram.com&oh=00_AfDGlJUwVpldaF23W2uOcmfVVYmBKxcyvTpaOTYlLEqPwQ&oe=65B427CF\n"
     ]
    }
   ],
   "source": [
    "s= \"\"\"\"https://scontent-iad3-2.cdninstagram.com/v/t51.29350-15/403880010_1403943240466917_3067056941630138383_n.jpg?stp=c162.288.270.270a_dst-jpg_s640x640&amp;_nc_cat=106&amp;ccb=1-7&amp;_nc_sid=384e48&amp;_nc_ohc=R1WNddiOJnAAX8msRtL&amp;_nc_ht=scontent-iad3-2.cdninstagram.com&amp;oh=00_AfDGlJUwVpldaF23W2uOcmfVVYmBKxcyvTpaOTYlLEqPwQ&amp;oe=65B427CF\"\"\"\n",
    "\n",
    "s= s.encode().decode()\n",
    "s= s.replace(\"&amp;\", \"&\")\n",
    "s= s.replace(\"\\/\", \"/\")\n",
    "print(s)"
   ]
  },
  {
   "cell_type": "code",
   "execution_count": null,
   "metadata": {},
   "outputs": [],
   "source": [
    "a= \"https://scontent-lhr6-1.cdninstagram.com/o1/v/t16/f1/m69/GNhhhRJx4PRNFGYBABckCYXlhhw5bpR1AAAF.mp4?efg=eyJxZV9ncm91cHMiOiJbXCJpZ193ZWJfZGVsaXZlcnlfdnRzX290ZlwiXSIsInZlbmNvZGVfdGFnIjoidnRzX3ZvZF91cmxnZW4uY2xpcHMuYzIuMTA4MC5oaWdoIn0&amp;_nc_ht=scontent-lhr6-1.cdninstagram.com&amp;_nc_cat=109&amp;vs=1171527723811114_1827674486&amp;_nc_vs=HBksFQIYOnBhc3N0aHJvdWdoX2V2ZXJzdG9yZS9HTmhoaFJKeDRQUk5GR1lCQUJja0NZWGxoaHc1YnBSMUFBQUYVAALIAQAVAhg6cGFzc3Rocm91Z2hfZXZlcnN0b3JlL0dNTEpPeFB1dHhiOWRFd0JBTUFZcHhTWXYzMFpicFIxQUFBRhUCAsgBACgAGAAbABUAACbCucikmfyAQBUCKAJDMywXQEImZmZmZmYYEmRhc2hfaGlnaF8xMDgwcF92MREAdf4HAA%3D%3D&amp;ccb=9-4&amp;oh=00_AfCVBNY4oiRGp35B7xM5C4OmKxUa-zaQd3PazmkbslYzFg&amp;oe=65AFA0CE&amp;_nc_sid=10d13b\"\n",
    "\n",
    "\n"
   ]
  },
  {
   "cell_type": "code",
   "execution_count": null,
   "metadata": {},
   "outputs": [],
   "source": [
    "s= s.replace('\\/', '/')\n",
    "s"
   ]
  },
  {
   "cell_type": "code",
   "execution_count": null,
   "metadata": {},
   "outputs": [],
   "source": [
    "print(s)"
   ]
  }
 ],
 "metadata": {
  "kernelspec": {
   "display_name": "venv",
   "language": "python",
   "name": "python3"
  },
  "language_info": {
   "codemirror_mode": {
    "name": "ipython",
    "version": 3
   },
   "file_extension": ".py",
   "mimetype": "text/x-python",
   "name": "python",
   "nbconvert_exporter": "python",
   "pygments_lexer": "ipython3",
   "version": "3.10.12"
  }
 },
 "nbformat": 4,
 "nbformat_minor": 2
}
